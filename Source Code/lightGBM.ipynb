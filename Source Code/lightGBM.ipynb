{
 "cells": [
  {
   "cell_type": "code",
   "execution_count": null,
   "metadata": {},
   "outputs": [],
   "source": [
    "\"\"\"WOrking on CM1 dataset\"\"\""
   ]
  },
  {
   "cell_type": "code",
   "execution_count": 39,
   "metadata": {},
   "outputs": [
    {
     "name": "stdout",
     "output_type": "stream",
     "text": [
      "   #Point  X(Thompsons)    Y(Counts)\n",
      "0       0          40.0    46.235340\n",
      "1       1          40.9    58.811787\n",
      "2       2          41.0   617.287781\n",
      "3       3          41.2    62.857056\n",
      "4       4          42.1  3057.952637\n",
      "Rows & columns: (92310, 3)\n"
     ]
    }
   ],
   "source": [
    "# Loading CM1 folder\n",
    "import pandas as pd\n",
    "import os\n",
    "\n",
    "# Loading folder path\n",
    "CM1_path = r\"C:\\Local Disk (A)\\Github Files\\Projects\\Mass-Sceptra-Classification\\Datasets\\CM1\"\n",
    "data = []\n",
    "\n",
    "# Combining all the files in the CM1 folder\n",
    "for file in os.listdir(CM1_path):\n",
    "    if file.endswith('.csv'):\n",
    "        file_path = os.path.join(CM1_path, file)\n",
    "        df = pd.read_csv(file_path, skiprows=1) # skipping the first row\n",
    "        # Append to the list of DataFrames\n",
    "        data.append(df)\n",
    "# Concatenate all DataFrames into a single DataFrame\n",
    "combined_CM1_data = pd.concat(data, ignore_index=True)\n",
    "\n",
    "print(combined_CM1_data.head(5))\n",
    "print(\"Rows & columns:\", combined_CM1_data.shape)\n"
   ]
  },
  {
   "cell_type": "code",
   "execution_count": 40,
   "metadata": {},
   "outputs": [
    {
     "name": "stdout",
     "output_type": "stream",
     "text": [
      "Summary :\n",
      "             #Point  X(Thompsons)      Y(Counts)\n",
      "count  92310.000000  92310.000000   92310.000000\n",
      "mean     171.147308    143.243818    1193.070302\n",
      "std      107.140743     68.833009    9722.745794\n",
      "min        0.000000     39.900000       0.003136\n",
      "25%       82.000000     88.200000      22.855255\n",
      "50%      164.000000    134.000000      70.941631\n",
      "75%      248.000000    186.100000     283.324089\n",
      "max      521.000000    413.200000  654898.562500\n",
      "\n",
      "Cheking for missing values :\n",
      "#Point          0\n",
      "X(Thompsons)    0\n",
      "Y(Counts)       0\n",
      "dtype: int64\n",
      "\n",
      "After droping '#Point' column :\n",
      "   X(Thompsons)    Y(Counts)\n",
      "0          40.0    46.235340\n",
      "1          40.9    58.811787\n",
      "2          41.0   617.287781\n",
      "3          41.2    62.857056\n",
      "4          42.1  3057.952637\n",
      "\n",
      "After Rounding :\n",
      "   X(Thompsons)    Y(Counts)\n",
      "0          40.0    46.235340\n",
      "1          41.0    58.811787\n",
      "2          41.0   617.287781\n",
      "3          42.0    62.857056\n",
      "4          43.0  3057.952637\n",
      "\n",
      "After Normalization :\n"
     ]
    },
    {
     "ename": "NameError",
     "evalue": "name 'MinMaxScaler' is not defined",
     "output_type": "error",
     "traceback": [
      "\u001b[1;31m---------------------------------------------------------------------------\u001b[0m",
      "\u001b[1;31mNameError\u001b[0m                                 Traceback (most recent call last)",
      "Cell \u001b[1;32mIn[40], line 33\u001b[0m\n\u001b[0;32m     30\u001b[0m \u001b[38;5;28;01mfrom\u001b[39;00m \u001b[38;5;21;01msklearn\u001b[39;00m\u001b[38;5;21;01m.\u001b[39;00m\u001b[38;5;21;01mpreprocessing\u001b[39;00m \u001b[38;5;28;01mimport\u001b[39;00m minmax_scale\n\u001b[0;32m     31\u001b[0m \u001b[38;5;28;01mimport\u001b[39;00m \u001b[38;5;21;01mpandas\u001b[39;00m \u001b[38;5;28;01mas\u001b[39;00m \u001b[38;5;21;01mpd\u001b[39;00m\n\u001b[1;32m---> 33\u001b[0m scaler \u001b[38;5;241m=\u001b[39m MinMaxScaler()\n\u001b[0;32m     34\u001b[0m combined_CM1_data[\u001b[38;5;124m'\u001b[39m\u001b[38;5;124mX(Thompsons)\u001b[39m\u001b[38;5;124m'\u001b[39m,\u001b[38;5;124m'\u001b[39m\u001b[38;5;124mY(Counts)\u001b[39m\u001b[38;5;124m'\u001b[39m] \u001b[38;5;241m=\u001b[39m scaler\u001b[38;5;241m.\u001b[39mfit_transform(combined_CM1_data[\u001b[38;5;124m'\u001b[39m\u001b[38;5;124mX(Thompsons)\u001b[39m\u001b[38;5;124m'\u001b[39m,\u001b[38;5;124m'\u001b[39m\u001b[38;5;124mY(Counts)\u001b[39m\u001b[38;5;124m'\u001b[39m])\n\u001b[0;32m     35\u001b[0m \u001b[38;5;28mprint\u001b[39m(combined_CM1_data\u001b[38;5;241m.\u001b[39mhead(\u001b[38;5;241m5\u001b[39m))\n",
      "\u001b[1;31mNameError\u001b[0m: name 'MinMaxScaler' is not defined"
     ]
    }
   ],
   "source": [
    "# Preprocessing Data\n",
    "\n",
    "# summary of the datset\n",
    "print(\"Summary :\")\n",
    "summary = combined_CM1_data.describe()\n",
    "print(summary)\n",
    "\n",
    "# Cheking for missing values\n",
    "print(\"\")\n",
    "print(\"Cheking for missing values :\")\n",
    "is_null = combined_CM1_data.isnull().sum()\n",
    "print(is_null)\n",
    "\n",
    "# dropping \"#Point\" column as it is not relevant\n",
    "print(\"\")\n",
    "print(\"After droping '#Point' column :\")\n",
    "combined_CM1_data = combined_CM1_data.drop('#Point', axis= 1)\n",
    "print(combined_CM1_data.head(5))\n",
    "\n",
    "# Rounding up the values of X(Thompsons) column\n",
    "print(\"\")\n",
    "print(\"After Rounding :\")\n",
    "import numpy as np\n",
    "combined_CM1_data['X(Thompsons)'] = np.ceil(combined_CM1_data['X(Thompsons)'])\n",
    "print(combined_CM1_data.head(5))\n",
    "\n",
    "# Normalizing the dataset\n",
    "print(\"\")\n",
    "print(\"After Normalization :\")\n",
    "from sklearn.preprocessing import minmax_scale\n",
    "import pandas as pd\n",
    "\n",
    "scaler = MinMaxScaler()\n",
    "combined_CM1_data['X(Thompsons)','Y(Counts)'] = scaler.fit_transform(combined_CM1_data['X(Thompsons)','Y(Counts)'])\n",
    "print(combined_CM1_data.head(5))"
   ]
  },
  {
   "cell_type": "code",
   "execution_count": null,
   "metadata": {},
   "outputs": [],
   "source": [
    "# Applying LightBGM Classification\n"
   ]
  },
  {
   "cell_type": "code",
   "execution_count": null,
   "metadata": {},
   "outputs": [],
   "source": [
    "\"\"\"WOrking on CM2 dataset\"\"\""
   ]
  },
  {
   "cell_type": "code",
   "execution_count": null,
   "metadata": {},
   "outputs": [],
   "source": [
    "\"\"\"WOrking on CM3 dataset\"\"\""
   ]
  },
  {
   "cell_type": "code",
   "execution_count": null,
   "metadata": {},
   "outputs": [],
   "source": [
    "\"\"\"WOrking on CM1,CM2,CM3 combined\"\"\""
   ]
  }
 ],
 "metadata": {
  "kernelspec": {
   "display_name": "base",
   "language": "python",
   "name": "python3"
  },
  "language_info": {
   "codemirror_mode": {
    "name": "ipython",
    "version": 3
   },
   "file_extension": ".py",
   "mimetype": "text/x-python",
   "name": "python",
   "nbconvert_exporter": "python",
   "pygments_lexer": "ipython3",
   "version": "3.12.4"
  }
 },
 "nbformat": 4,
 "nbformat_minor": 2
}

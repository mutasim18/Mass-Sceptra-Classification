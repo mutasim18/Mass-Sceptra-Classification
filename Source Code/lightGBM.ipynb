{
 "cells": [
  {
   "cell_type": "code",
   "execution_count": null,
   "metadata": {},
   "outputs": [],
   "source": [
    "\"\"\"WOrking on CM1 dataset\"\"\""
   ]
  },
  {
   "cell_type": "code",
   "execution_count": 7,
   "metadata": {},
   "outputs": [
    {
     "name": "stdout",
     "output_type": "stream",
     "text": [
      "   #Point  X(Thompsons)    Y(Counts)\n",
      "0       0          40.0    46.235340\n",
      "1       1          40.9    58.811787\n",
      "2       2          41.0   617.287781\n",
      "3       3          41.2    62.857056\n",
      "4       4          42.1  3057.952637\n",
      "Rows & columns: (92310, 3)\n"
     ]
    }
   ],
   "source": [
    "# Loading CM1 folder\n",
    "import pandas as pd\n",
    "import os\n",
    "\n",
    "# Loading folder path\n",
    "CM1_path = r\"C:\\Local Disk (A)\\Github Files\\Projects\\Mass-Sceptra-Classification\\Datasets\\CM1\"\n",
    "data = []\n",
    "\n",
    "# Combining all the files in the CM1 folder\n",
    "for file in os.listdir(CM1_path):\n",
    "    if file.endswith('.csv'):\n",
    "        file_path = os.path.join(CM1_path, file)\n",
    "        df = pd.read_csv(file_path, skiprows=1) # skipping the first row\n",
    "        # Append to the list of DataFrames\n",
    "        data.append(df)\n",
    "# Concatenate all DataFrames into a single DataFrame\n",
    "combined_CM1_data = pd.concat(data, ignore_index=True)\n",
    "\n",
    "print(combined_CM1_data.head(5))\n",
    "print(\"Rows & columns:\", combined_CM1_data.shape)\n"
   ]
  },
  {
   "cell_type": "code",
   "execution_count": 8,
   "metadata": {},
   "outputs": [
    {
     "name": "stdout",
     "output_type": "stream",
     "text": [
      "Summary :\n",
      "             #Point  X(Thompsons)      Y(Counts)\n",
      "count  92310.000000  92310.000000   92310.000000\n",
      "mean     171.147308    143.243818    1193.070302\n",
      "std      107.140743     68.833009    9722.745794\n",
      "min        0.000000     39.900000       0.003136\n",
      "25%       82.000000     88.200000      22.855255\n",
      "50%      164.000000    134.000000      70.941631\n",
      "75%      248.000000    186.100000     283.324089\n",
      "max      521.000000    413.200000  654898.562500\n",
      "\n",
      "Cheking for missing values :\n",
      "#Point          0\n",
      "X(Thompsons)    0\n",
      "Y(Counts)       0\n",
      "dtype: int64\n",
      "\n",
      "After droping '#Point' column :\n",
      "   X(Thompsons)    Y(Counts)\n",
      "0          40.0    46.235340\n",
      "1          40.9    58.811787\n",
      "2          41.0   617.287781\n",
      "3          41.2    62.857056\n",
      "4          42.1  3057.952637\n",
      "\n",
      "After Rounding :\n",
      "   X(Thompsons)    Y(Counts)\n",
      "0          40.0    46.235340\n",
      "1          41.0    58.811787\n",
      "2          41.0   617.287781\n",
      "3          42.0    62.857056\n",
      "4          43.0  3057.952637\n"
     ]
    },
    {
     "data": {
      "text/plain": [
       "'print(\"\")\\nprint(\"After Normalization :\")\\nfrom sklearn.preprocessing import MinMaxScaler\\nimport pandas as pd\\n\\nscaler = MinMaxScaler()\\ncolumns_to_normalize = [\\'X(Thompsons)\\', \\'Y(Counts)\\']\\ncombined_CM1_data[columns_to_normalize] = scaler.fit_transform(combined_CM1_data[columns_to_normalize])\\nprint(combined_CM1_data.head(5))'"
      ]
     },
     "execution_count": 8,
     "metadata": {},
     "output_type": "execute_result"
    }
   ],
   "source": [
    "# Preprocessing Data\n",
    "\n",
    "# summary of the datset\n",
    "print(\"Summary :\")\n",
    "summary = combined_CM1_data.describe()\n",
    "print(summary)\n",
    "\n",
    "# Cheking for missing values\n",
    "print(\"\")\n",
    "print(\"Cheking for missing values :\")\n",
    "is_null = combined_CM1_data.isnull().sum()\n",
    "print(is_null)\n",
    "\n",
    "# dropping \"#Point\" column as it is not relevant\n",
    "print(\"\")\n",
    "print(\"After droping '#Point' column :\")\n",
    "combined_CM1_data = combined_CM1_data.drop('#Point', axis= 1)\n",
    "print(combined_CM1_data.head(5))\n",
    "\n",
    "# Rounding up the values of X(Thompsons) column\n",
    "print(\"\")\n",
    "print(\"After Rounding :\")\n",
    "import numpy as np\n",
    "combined_CM1_data['X(Thompsons)'] = np.ceil(combined_CM1_data['X(Thompsons)'])\n",
    "print(combined_CM1_data.head(5))\n",
    "\n",
    "# Normalizing the dataset\n",
    "\"\"\"print(\"\")\n",
    "print(\"After Normalization :\")\n",
    "from sklearn.preprocessing import MinMaxScaler\n",
    "import pandas as pd\n",
    "\n",
    "scaler = MinMaxScaler()\n",
    "columns_to_normalize = ['X(Thompsons)', 'Y(Counts)']\n",
    "combined_CM1_data[columns_to_normalize] = scaler.fit_transform(combined_CM1_data[columns_to_normalize])\n",
    "print(combined_CM1_data.head(5))\"\"\""
   ]
  },
  {
   "cell_type": "code",
   "execution_count": null,
   "metadata": {},
   "outputs": [
    {
     "name": "stdout",
     "output_type": "stream",
     "text": [
      "[LightGBM] [Info] Auto-choosing row-wise multi-threading, the overhead of testing was 0.000131 seconds.\n",
      "You can set `force_row_wise=true` to remove the overhead.\n",
      "And if memory is not enough, you can set `force_col_wise=true`.\n",
      "[LightGBM] [Info] Total Bins 255\n",
      "[LightGBM] [Info] Number of data points in the train set: 64617, number of used features: 1\n",
      "[LightGBM] [Info] Start training from score 1194.049982\n",
      "Mean Squared Error: 95602970.90\n"
     ]
    }
   ],
   "source": [
    "import pandas as pd\n",
    "import numpy as np\n",
    "import lightgbm as lgb\n",
    "from sklearn.model_selection import train_test_split\n",
    "from sklearn.metrics import mean_squared_error\n",
    "\n",
    "# Split dataset into features and target\n",
    "X = combined_CM1_data[['X(Thompsons)']]  # Feature: X(Thompsons)\n",
    "y = combined_CM1_data['Y(Counts)']  # Target: Y(Counts)\n",
    "\n",
    "# Split data into 70% training and 30% testing sets\n",
    "X_train, X_test, y_train, y_test = train_test_split(X, y, test_size=0.3, random_state=50)\n",
    "\n",
    "# Initialize LightGBM Regressor\n",
    "model = lgb.LGBMClassifier(boosting_type='gbdt', num_leaves=31, learning_rate=0.05, n_estimators=100)#\n",
    "#model = lgb.LGBMRegressor(boosting_type='gbdt', num_leaves=31, learning_rate=0.05, n_estimators=100)\n",
    "\n",
    "# Train the model\n",
    "model.fit(X_train, y_train)\n",
    "\n",
    "# Make predictions\n",
    "y_pred = model.predict(X_test)\n",
    "\n",
    "# Evaluate the model using Mean Squared Error\n",
    "mse = mean_squared_error(y_test, y_pred)\n",
    "print(f\"Mean Squared Error: {mse:.2f}\")"
   ]
  },
  {
   "cell_type": "code",
   "execution_count": 10,
   "metadata": {},
   "outputs": [
    {
     "name": "stdout",
     "output_type": "stream",
     "text": [
      "[LightGBM] [Info] Auto-choosing row-wise multi-threading, the overhead of testing was 0.000112 seconds.\n",
      "You can set `force_row_wise=true` to remove the overhead.\n",
      "And if memory is not enough, you can set `force_col_wise=true`.\n",
      "[LightGBM] [Info] Total Bins 255\n",
      "[LightGBM] [Info] Number of data points in the train set: 64617, number of used features: 1\n",
      "[LightGBM] [Info] Start training from score -2.039175\n",
      "[LightGBM] [Info] Start training from score -0.557073\n",
      "[LightGBM] [Info] Start training from score -1.214088\n"
     ]
    },
    {
     "ename": "NameError",
     "evalue": "name 'accuracy_score' is not defined",
     "output_type": "error",
     "traceback": [
      "\u001b[1;31m---------------------------------------------------------------------------\u001b[0m",
      "\u001b[1;31mNameError\u001b[0m                                 Traceback (most recent call last)",
      "Cell \u001b[1;32mIn[10], line 29\u001b[0m\n\u001b[0;32m     26\u001b[0m y_pred \u001b[38;5;241m=\u001b[39m model\u001b[38;5;241m.\u001b[39mpredict(X_test)\n\u001b[0;32m     28\u001b[0m \u001b[38;5;66;03m# Evaluate the model using Accuracy\u001b[39;00m\n\u001b[1;32m---> 29\u001b[0m accuracy \u001b[38;5;241m=\u001b[39m accuracy_score(y_test, y_pred)\n\u001b[0;32m     30\u001b[0m \u001b[38;5;28mprint\u001b[39m(\u001b[38;5;124mf\u001b[39m\u001b[38;5;124m\"\u001b[39m\u001b[38;5;124mAccuracy: \u001b[39m\u001b[38;5;132;01m{\u001b[39;00maccuracy\u001b[38;5;132;01m:\u001b[39;00m\u001b[38;5;124m.2f\u001b[39m\u001b[38;5;132;01m}\u001b[39;00m\u001b[38;5;124m\"\u001b[39m)\n",
      "\u001b[1;31mNameError\u001b[0m: name 'accuracy_score' is not defined"
     ]
    }
   ],
   "source": [
    "# Convert Y(Counts) into categories\n",
    "import pandas as pd\n",
    "import numpy as np\n",
    "import lightgbm as lgb\n",
    "from sklearn.model_selection import train_test_split\n",
    "from sklearn.metrics import mean_squared_error\n",
    "\n",
    "bins = [0, 100, 1000, float('inf')]  # Define ranges for bins (adjust as needed)\n",
    "labels = ['Low', 'Medium', 'High']  # Define labels for bins\n",
    "combined_CM1_data['Y(Counts)_category'] = pd.cut(combined_CM1_data['Y(Counts)'], bins=bins, labels=labels)\n",
    "\n",
    "# Use the new categorical target for classification\n",
    "X = combined_CM1_data[['X(Thompsons)']]  # Feature: X(Thompsons)\n",
    "y = combined_CM1_data['Y(Counts)_category']  # Target: Y(Counts) as categories\n",
    "\n",
    "# Split data into training and testing sets\n",
    "X_train, X_test, y_train, y_test = train_test_split(X, y, test_size=0.3, random_state=50)\n",
    "\n",
    "# Initialize LightGBM Classifier\n",
    "model = lgb.LGBMClassifier(boosting_type='gbdt', num_leaves=31, learning_rate=0.05, n_estimators=100)\n",
    "\n",
    "# Train the model\n",
    "model.fit(X_train, y_train)\n",
    "\n",
    "# Make predictions\n",
    "y_pred = model.predict(X_test)\n",
    "\n",
    "# Evaluate the model using Accuracy\n",
    "accuracy = accuracy_score(y_test, y_pred)\n",
    "print(f\"Accuracy: {accuracy:.2f}\")\n"
   ]
  },
  {
   "cell_type": "code",
   "execution_count": null,
   "metadata": {},
   "outputs": [],
   "source": [
    "\"\"\"WOrking on CM2 dataset\"\"\""
   ]
  },
  {
   "cell_type": "code",
   "execution_count": null,
   "metadata": {},
   "outputs": [],
   "source": [
    "\"\"\"WOrking on CM3 dataset\"\"\""
   ]
  },
  {
   "cell_type": "code",
   "execution_count": null,
   "metadata": {},
   "outputs": [],
   "source": [
    "\"\"\"WOrking on CM1,CM2,CM3 combined\"\"\""
   ]
  }
 ],
 "metadata": {
  "kernelspec": {
   "display_name": "base",
   "language": "python",
   "name": "python3"
  },
  "language_info": {
   "codemirror_mode": {
    "name": "ipython",
    "version": 3
   },
   "file_extension": ".py",
   "mimetype": "text/x-python",
   "name": "python",
   "nbconvert_exporter": "python",
   "pygments_lexer": "ipython3",
   "version": "3.12.4"
  }
 },
 "nbformat": 4,
 "nbformat_minor": 2
}

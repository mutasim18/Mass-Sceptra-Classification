{
 "cells": [
  {
   "cell_type": "code",
   "execution_count": null,
   "metadata": {},
   "outputs": [],
   "source": [
    "\"\"\"WOrking on CM1 dataset\"\"\""
   ]
  },
  {
   "cell_type": "code",
   "execution_count": 57,
   "metadata": {},
   "outputs": [
    {
     "name": "stdout",
     "output_type": "stream",
     "text": [
      "   #Point  X(Thompsons)    Y(Counts)\n",
      "0       0          40.0    46.235340\n",
      "1       1          40.9    58.811787\n",
      "2       2          41.0   617.287781\n",
      "3       3          41.2    62.857056\n",
      "4       4          42.1  3057.952637\n",
      "Rows & columns: (92310, 3)\n"
     ]
    }
   ],
   "source": [
    "# Loading CM1 folder\n",
    "import pandas as pd\n",
    "import os\n",
    "\n",
    "# Loading folder path\n",
    "CM1_path = r\"C:\\Local Disk (A)\\Github Files\\Projects\\Mass-Sceptra-Classification\\Datasets\\CM1\"\n",
    "data = []\n",
    "\n",
    "# Combining all the files in the CM1 folder\n",
    "for file in os.listdir(CM1_path):\n",
    "    if file.endswith('.csv'):\n",
    "        file_path = os.path.join(CM1_path, file)\n",
    "        df = pd.read_csv(file_path, skiprows=1) # skipping the first row\n",
    "        # Append to the list of DataFrames\n",
    "        data.append(df)\n",
    "# Concatenate all DataFrames into a single DataFrame\n",
    "combined_CM1_data = pd.concat(data, ignore_index=True)\n",
    "\n",
    "print(combined_CM1_data.head(5))\n",
    "print(\"Rows & columns:\", combined_CM1_data.shape)\n"
   ]
  },
  {
   "cell_type": "code",
   "execution_count": 58,
   "metadata": {},
   "outputs": [
    {
     "name": "stdout",
     "output_type": "stream",
     "text": [
      "Summary :\n",
      "             #Point  X(Thompsons)      Y(Counts)\n",
      "count  92310.000000  92310.000000   92310.000000\n",
      "mean     171.147308    143.243818    1193.070302\n",
      "std      107.140743     68.833009    9722.745794\n",
      "min        0.000000     39.900000       0.003136\n",
      "25%       82.000000     88.200000      22.855255\n",
      "50%      164.000000    134.000000      70.941631\n",
      "75%      248.000000    186.100000     283.324089\n",
      "max      521.000000    413.200000  654898.562500\n",
      "\n",
      "Cheking for missing values :\n",
      "#Point          0\n",
      "X(Thompsons)    0\n",
      "Y(Counts)       0\n",
      "dtype: int64\n",
      "\n",
      "After droping '#Point' column :\n",
      "   X(Thompsons)    Y(Counts)\n",
      "0          40.0    46.235340\n",
      "1          40.9    58.811787\n",
      "2          41.0   617.287781\n",
      "3          41.2    62.857056\n",
      "4          42.1  3057.952637\n",
      "\n",
      "After Rounding :\n",
      "   X(Thompsons)    Y(Counts)\n",
      "0          40.0    46.235340\n",
      "1          41.0    58.811787\n",
      "2          41.0   617.287781\n",
      "3          42.0    62.857056\n",
      "4          43.0  3057.952637\n",
      "\n",
      "After Normalization :\n",
      "   X(Thompsons)  Y(Counts)\n",
      "0      0.000000   0.000071\n",
      "1      0.002674   0.000090\n",
      "2      0.002674   0.000943\n",
      "3      0.005348   0.000096\n",
      "4      0.008021   0.004669\n"
     ]
    }
   ],
   "source": [
    "# Preprocessing Data\n",
    "\n",
    "# summary of the datset\n",
    "print(\"Summary :\")\n",
    "summary = combined_CM1_data.describe()\n",
    "print(summary)\n",
    "\n",
    "# Cheking for missing values\n",
    "print(\"\")\n",
    "print(\"Cheking for missing values :\")\n",
    "is_null = combined_CM1_data.isnull().sum()\n",
    "print(is_null)\n",
    "\n",
    "# dropping \"#Point\" column as it is not relevant\n",
    "print(\"\")\n",
    "print(\"After droping '#Point' column :\")\n",
    "combined_CM1_data = combined_CM1_data.drop('#Point', axis= 1)\n",
    "print(combined_CM1_data.head(5))\n",
    "\n",
    "# Rounding up the values of X(Thompsons) column\n",
    "print(\"\")\n",
    "print(\"After Rounding :\")\n",
    "import numpy as np\n",
    "combined_CM1_data['X(Thompsons)'] = np.ceil(combined_CM1_data['X(Thompsons)'])\n",
    "print(combined_CM1_data.head(5))\n",
    "\n",
    "# Normalizing the dataset\n",
    "print(\"\")\n",
    "print(\"After Normalization :\")\n",
    "from sklearn.preprocessing import MinMaxScaler\n",
    "import pandas as pd\n",
    "\n",
    "scaler = MinMaxScaler()\n",
    "columns_to_normalize = ['X(Thompsons)', 'Y(Counts)']\n",
    "combined_CM1_data[columns_to_normalize] = scaler.fit_transform(combined_CM1_data[columns_to_normalize])\n",
    "\n",
    "# Display the first few rows to verify the changes\n",
    "print(combined_CM1_data.head(5))"
   ]
  },
  {
   "cell_type": "code",
   "execution_count": 61,
   "metadata": {},
   "outputs": [
    {
     "name": "stdout",
     "output_type": "stream",
     "text": [
      "[LightGBM] [Info] Auto-choosing row-wise multi-threading, the overhead of testing was 0.000322 seconds.\n",
      "You can set `force_row_wise=true` to remove the overhead.\n",
      "And if memory is not enough, you can set `force_col_wise=true`.\n",
      "[LightGBM] [Info] Total Bins 255\n",
      "[LightGBM] [Info] Number of data points in the train set: 64617, number of used features: 1\n",
      "[LightGBM] [Info] Start training from score 0.001823\n",
      "Mean Squared Error: 0.00\n"
     ]
    }
   ],
   "source": [
    "import pandas as pd\n",
    "import numpy as np\n",
    "import lightgbm as lgb\n",
    "from sklearn.model_selection import train_test_split\n",
    "from sklearn.metrics import mean_squared_error\n",
    "\n",
    "# Split dataset into features and target\n",
    "X = combined_CM1_data[['X(Thompsons)']]  # Feature: X(Thompsons)\n",
    "y = combined_CM1_data['Y(Counts)']  # Target: Y(Counts)\n",
    "\n",
    "# Split data into training and testing sets\n",
    "X_train, X_test, y_train, y_test = train_test_split(X, y, test_size=0.3, random_state=50)\n",
    "\n",
    "# Initialize LightGBM Regressor\n",
    "model = lgb.LGBMRegressor(boosting_type='gbdt', num_leaves=31, learning_rate=0.05, n_estimators=100)\n",
    "\n",
    "# Train the model\n",
    "model.fit(X_train, y_train)\n",
    "\n",
    "# Make predictions\n",
    "y_pred = model.predict(X_test)\n",
    "\n",
    "# Evaluate the model using Mean Squared Error\n",
    "mse = mean_squared_error(y_test, y_pred)\n",
    "print(f\"Mean Squared Error: {mse:.2f}\")"
   ]
  },
  {
   "cell_type": "code",
   "execution_count": null,
   "metadata": {},
   "outputs": [],
   "source": [
    "\"\"\"WOrking on CM2 dataset\"\"\""
   ]
  },
  {
   "cell_type": "code",
   "execution_count": null,
   "metadata": {},
   "outputs": [],
   "source": [
    "\"\"\"WOrking on CM3 dataset\"\"\""
   ]
  },
  {
   "cell_type": "code",
   "execution_count": null,
   "metadata": {},
   "outputs": [],
   "source": [
    "\"\"\"WOrking on CM1,CM2,CM3 combined\"\"\""
   ]
  }
 ],
 "metadata": {
  "kernelspec": {
   "display_name": "base",
   "language": "python",
   "name": "python3"
  },
  "language_info": {
   "codemirror_mode": {
    "name": "ipython",
    "version": 3
   },
   "file_extension": ".py",
   "mimetype": "text/x-python",
   "name": "python",
   "nbconvert_exporter": "python",
   "pygments_lexer": "ipython3",
   "version": "3.12.4"
  }
 },
 "nbformat": 4,
 "nbformat_minor": 2
}

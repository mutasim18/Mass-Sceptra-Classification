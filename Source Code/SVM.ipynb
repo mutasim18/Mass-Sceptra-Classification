{
 "cells": [
  {
   "cell_type": "code",
   "execution_count": null,
   "metadata": {},
   "outputs": [],
   "source": [
    "\"\"\"WOrking on CM1 dataset\"\"\""
   ]
  },
  {
   "cell_type": "code",
   "execution_count": null,
   "metadata": {},
   "outputs": [],
   "source": [
    "# Loading CM1 folder\n",
    "import pandas as pd\n",
    "import os\n",
    "\n",
    "# Loading folder path\n",
    "CM1_path = r\"C:\\Local Disk (A)\\Github Files\\Projects\\Mass-Sceptra-Classification\\Datasets\\CM1\"\n",
    "data = []\n",
    "\n",
    "# Combining all the files in the CM1 folder\n",
    "for file in os.listdir(CM1_path):\n",
    "    if file.endswith('.csv'):\n",
    "        file_path = os.path.join(CM1_path, file)\n",
    "        df = pd.read_csv(file_path, skiprows=1) # skipping the first row\n",
    "        # Append to the list of DataFrames\n",
    "        data.append(df)\n",
    "# Concatenate all DataFrames into a single DataFrame\n",
    "combined_CM1_data = pd.concat(data, ignore_index=True)\n",
    "\n",
    "print(combined_CM1_data.head(5))\n",
    "print(\"Rows & columns:\", combined_CM1_data.shape)"
   ]
  },
  {
   "cell_type": "code",
   "execution_count": null,
   "metadata": {},
   "outputs": [],
   "source": [
    "# Preprocessing Data\n",
    "\n",
    "# summary of the datset\n",
    "print(\"Summary :\")\n",
    "summary = combined_CM1_data.describe()\n",
    "print(summary)\n",
    "\n",
    "# Cheking for missing values\n",
    "print(\"\")\n",
    "print(\"Cheking for missing values :\")\n",
    "is_null = combined_CM1_data.isnull().sum()\n",
    "print(is_null)\n",
    "\n",
    "# dropping \"#Point\" column as it is not relevant\n",
    "print(\"\")\n",
    "print(\"After droping '#Point' column :\")\n",
    "combined_CM1_data = combined_CM1_data.drop('#Point', axis= 1)\n",
    "print(combined_CM1_data.head(5))\n",
    "\n",
    "# Rounding up the values of X(Thompsons) column\n",
    "print(\"\")\n",
    "print(\"After Rounding :\")\n",
    "import numpy as np\n",
    "combined_CM1_data['X(Thompsons)'] = np.ceil(combined_CM1_data['X(Thompsons)'])\n",
    "print(combined_CM1_data.head(5))\n",
    "\n",
    "# Adding features\n",
    "import numpy as np\n",
    "from scipy.spatial.distance import cosine\n",
    "\n",
    "# Creating a reference vector that is the mean of Y(Counts) repeated to match length\n",
    "#reference_vector = [combined_CM1_data['Y(Counts)'].mean()] * len(combined_CM1_data)\n",
    "# Calculate cosine similarity between each row and the reference vector\n",
    "#combined_CM1_data['cosine_similarity'] = combined_CM1_data['Y(Counts)'].apply(\n",
    "    #lambda y: 1 - cosine([y], reference_vector)\n",
    "#)\n",
    "\n",
    "# 2. Area Ratio: Area ratio using trapezoidal rule with respect to X(Thompsons)\n",
    "print(\"\\nCalculating Area Ratio...\")\n",
    "combined_CM1_data['area_ratio'] = combined_CM1_data['Y(Counts)'] / combined_CM1_data['Y(Counts)'].sum()\n",
    "\n",
    "# 3. Standard Deviation Ratio: Standard deviation ratio between Y(Counts) and X(Thompsons)\n",
    "print(\"\\nCalculating Standard Deviation Ratio...\")\n",
    "combined_CM1_data['std_ratio'] = combined_CM1_data['Y(Counts)'] / (combined_CM1_data['X(Thompsons)'].std() + 1)  # +1 to avoid division by zero\n",
    "\n",
    "# Display the DataFrame with the new features\n",
    "print(\"\\nAfter adding new features:\")\n",
    "print(combined_CM1_data.head())\n",
    "# Normalizing the dataset\n",
    "print(\"\")\n",
    "print(\"After Normalization :\")\n",
    "from sklearn.preprocessing import MinMaxScaler\n",
    "import pandas as pd\n",
    "\n",
    "scaler = MinMaxScaler()\n",
    "columns_to_normalize = ['X(Thompsons)', 'Y(Counts)', 'area_ratio', 'std_ratio']\n",
    "combined_CM1_data[columns_to_normalize] = scaler.fit_transform(combined_CM1_data[columns_to_normalize])\n",
    "print(combined_CM1_data.head(5))"
   ]
  },
  {
   "cell_type": "code",
   "execution_count": 9,
   "metadata": {},
   "outputs": [
    {
     "name": "stdout",
     "output_type": "stream",
     "text": [
      "Accuracy: 0.6440616762358718\n"
     ]
    }
   ],
   "source": [
    "# SVM on CM1\n",
    "from sklearn.svm import SVC\n",
    "from sklearn.model_selection import train_test_split\n",
    "from sklearn.metrics import accuracy_score\n",
    "\n",
    "# Convert Y(Counts) into binary labels based on the median\n",
    "y = (combined_CM1_data['Y(Counts)'] > combined_CM1_data['Y(Counts)'].median()).astype(int)\n",
    "\n",
    "# Split dataset into features and target\n",
    "X = combined_CM1_data[['X(Thompsons)', 'area_ratio', 'std_ratio']]\n",
    "\n",
    "# Split data into training and testing sets\n",
    "X_train, X_test, y_train, y_test = train_test_split(X, y, test_size=0.3, random_state=50)\n",
    "\n",
    "# Initialize SVM Classifier with an RBF kernel\n",
    "model = SVC(kernel='rbf', random_state=50)\n",
    "\n",
    "# Train the model\n",
    "model.fit(X_train, y_train)\n",
    "\n",
    "# Make predictions\n",
    "y_pred = model.predict(X_test)\n",
    "\n",
    "# Evaluate the model\n",
    "accuracy = accuracy_score(y_test, y_pred)\n",
    "print(f\"Accuracy: {accuracy}\")\n"
   ]
  }
 ],
 "metadata": {
  "kernelspec": {
   "display_name": "base",
   "language": "python",
   "name": "python3"
  },
  "language_info": {
   "codemirror_mode": {
    "name": "ipython",
    "version": 3
   },
   "file_extension": ".py",
   "mimetype": "text/x-python",
   "name": "python",
   "nbconvert_exporter": "python",
   "pygments_lexer": "ipython3",
   "version": "3.12.4"
  }
 },
 "nbformat": 4,
 "nbformat_minor": 2
}
